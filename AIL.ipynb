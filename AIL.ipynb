{
 "cells": [
  {
   "cell_type": "code",
   "execution_count": 1,
   "id": "5e41ce10",
   "metadata": {},
   "outputs": [],
   "source": [
    "import numpy as np\n",
    "import matplotlib.pyplot as plt"
   ]
  },
  {
   "cell_type": "code",
   "execution_count": 4,
   "id": "9911c170",
   "metadata": {},
   "outputs": [
    {
     "name": "stdout",
     "output_type": "stream",
     "text": [
      "(5000, 1)\n"
     ]
    }
   ],
   "source": [
    "X_train = np.arange(-10.,10., 0.004) # generate 5000 data\n",
    "\n",
    "\n",
    "y_temp = np.sin(X_train) / (X_train)\n",
    "y_train = np.random.uniform(y_temp - (-0.2), y_temp + (-0.2))\n",
    "\n",
    "X_test = np.arange(-10,10, 0.004) # generate 5000 data\n",
    "y_test = np.sin(X_test) / (X_test)\n",
    "\n",
    "X_train = X_train.reshape(-1, 1)\n",
    "X_test = X_test.reshape(-1, 1)\n",
    "\n",
    "print(X_train.shape)"
   ]
  },
  {
   "cell_type": "code",
   "execution_count": 6,
   "id": "6b594e14",
   "metadata": {},
   "outputs": [],
   "source": [
    "def sigmoid(x):\n",
    "    return 1 / (1 + np.exp(-x))\n",
    "\n",
    "def feedforward(X, W, B):\n",
    "    H = np.dot(X, W) + B\n",
    "    return sigmoid(H)\n",
    "\n",
    "def prediksi(X, W, B, beta):\n",
    "    o = feedforward(X, W, B)\n",
    "    return np.dot(o, beta)\n",
    "\n",
    "def mse(yT, yP):\n",
    "    d = yT - yP\n",
    "    return np.mean(d**2)\n",
    "\n",
    "def tanh(x):\n",
    "    return (np.exp(x) - np.exp(-x)) / (np.exp(x) + np.exp(-x))"
   ]
  },
  {
   "cell_type": "code",
   "execution_count": null,
   "id": "63f505a7",
   "metadata": {},
   "outputs": [],
   "source": []
  }
 ],
 "metadata": {
  "kernelspec": {
   "display_name": "Python 3",
   "language": "python",
   "name": "python3"
  },
  "language_info": {
   "codemirror_mode": {
    "name": "ipython",
    "version": 3
   },
   "file_extension": ".py",
   "mimetype": "text/x-python",
   "name": "python",
   "nbconvert_exporter": "python",
   "pygments_lexer": "ipython3",
   "version": "3.8.8"
  }
 },
 "nbformat": 4,
 "nbformat_minor": 5
}
